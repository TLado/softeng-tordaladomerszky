{
    "metadata": {
        "kernelspec": {
            "name": "SQL",
            "display_name": "SQL",
            "language": "sql"
        },
        "language_info": {
            "name": "sql",
            "version": ""
        }
    },
    "nbformat_minor": 2,
    "nbformat": 4,
    "cells": [
        {
            "cell_type": "markdown",
            "source": [
                "Adatbázis megtervezése"
            ],
            "metadata": {
                "azdata_cell_guid": "1fb2bf2d-cca7-4b80-84a2-2cb716847bf1"
            },
            "attachments": {}
        },
        {
            "cell_type": "code",
            "source": [
                "-- CIM tábla létrehozása\r\n",
                "CREATE TABLE CIM (\r\n",
                "    CimID INT IDENTITY(1,1) PRIMARY KEY,\r\n",
                "    Utca NVARCHAR(100) NOT NULL,\r\n",
                "    Hazszam NVARCHAR(20) NOT NULL,\r\n",
                "    Varos NVARCHAR(50) NOT NULL,\r\n",
                "    Iranyitoszam NVARCHAR(10) NOT NULL,\r\n",
                "    Orszag NVARCHAR(50) NOT NULL\r\n",
                ");\r\n",
                "\r\n",
                "-- TERMEK_KATEGORIA tábla létrehozása\r\n",
                "CREATE TABLE TERMEK_KATEGORIA (\r\n",
                "    KategoriaID INT IDENTITY(1,1) PRIMARY KEY,\r\n",
                "    Nev NVARCHAR(50) NOT NULL,\r\n",
                "    Leiras NVARCHAR(MAX),\r\n",
                "    SzuloKategoriaID INT,\r\n",
                "    CONSTRAINT FK_TERMEK_KATEGORIA_SzuloKategoria FOREIGN KEY (SzuloKategoriaID) \r\n",
                "        REFERENCES TERMEK_KATEGORIA(KategoriaID)\r\n",
                ");\r\n",
                "\r\n",
                "-- TERMEK tábla létrehozása\r\n",
                "CREATE TABLE TERMEK (\r\n",
                "    TermekID INT IDENTITY(1,1) PRIMARY KEY,\r\n",
                "    Nev NVARCHAR(100) NOT NULL,\r\n",
                "    Leiras NVARCHAR(MAX),\r\n",
                "    AktualisAr DECIMAL(10,2) NOT NULL,\r\n",
                "    Keszlet INT NOT NULL,\r\n",
                "    KategoriaID INT,\r\n",
                "    CONSTRAINT FK_TERMEK_TERMEK_KATEGORIA FOREIGN KEY (KategoriaID) \r\n",
                "        REFERENCES TERMEK_KATEGORIA(KategoriaID),\r\n",
                "    CONSTRAINT CHK_TERMEK_AktualisAr CHECK (AktualisAr >= 0),\r\n",
                "    CONSTRAINT CHK_TERMEK_Keszlet CHECK (Keszlet >= 0)\r\n",
                ");\r\n",
                "\r\n",
                "-- UGYFEL tábla létrehozása\r\n",
                "CREATE TABLE UGYFEL (\r\n",
                "    UgyfelID INT IDENTITY(1,1) PRIMARY KEY,\r\n",
                "    Nev NVARCHAR(100) NOT NULL,\r\n",
                "    Email NVARCHAR(255) NOT NULL,\r\n",
                "    Telefonszam NVARCHAR(20),\r\n",
                "    LakcimID INT,\r\n",
                "    CONSTRAINT FK_UGYFEL_CIM FOREIGN KEY (LakcimID) \r\n",
                "        REFERENCES CIM(CimID),\r\n",
                "    CONSTRAINT UQ_UGYFEL_Email UNIQUE (Email)\r\n",
                ");\r\n",
                "\r\n",
                "-- RENDELES tábla létrehozása\r\n",
                "CREATE TABLE RENDELES (\r\n",
                "    RendelesID INT IDENTITY(1,1) PRIMARY KEY,\r\n",
                "    UgyfelID INT NOT NULL,\r\n",
                "    SzallitasiCimID INT NOT NULL,\r\n",
                "    RendelesDatum DATETIME NOT NULL DEFAULT GETDATE(),\r\n",
                "    Statusz NVARCHAR(20) NOT NULL,\r\n",
                "    Kedvezmeny DECIMAL(5,2) NOT NULL DEFAULT 0,\r\n",
                "    Vegosszeg DECIMAL(10,2) NOT NULL,\r\n",
                "    CONSTRAINT FK_RENDELES_UGYFEL FOREIGN KEY (UgyfelID) \r\n",
                "        REFERENCES UGYFEL(UgyfelID),\r\n",
                "    CONSTRAINT FK_RENDELES_CIM FOREIGN KEY (SzallitasiCimID) \r\n",
                "        REFERENCES CIM(CimID),\r\n",
                "    CONSTRAINT CHK_RENDELES_Kedvezmeny CHECK (Kedvezmeny >= 0 AND Kedvezmeny <= 100),\r\n",
                "    CONSTRAINT CHK_RENDELES_Vegosszeg CHECK (Vegosszeg >= 0)\r\n",
                ");\r\n",
                "\r\n",
                "-- RENDELES_TETEL tábla létrehozása\r\n",
                "CREATE TABLE RENDELES_TETEL (\r\n",
                "    TetelID INT IDENTITY(1,1) PRIMARY KEY,\r\n",
                "    RendelesID INT NOT NULL,\r\n",
                "    TermekID INT NOT NULL,\r\n",
                "    Mennyiseg INT NOT NULL,\r\n",
                "    EgysegAr DECIMAL(10,2) NOT NULL,\r\n",
                "    Afa DECIMAL(5,2) NOT NULL,\r\n",
                "    NettoAr DECIMAL(10,2) NOT NULL,\r\n",
                "    BruttoAr DECIMAL(10,2) NOT NULL,\r\n",
                "    CONSTRAINT FK_RENDELES_TETEL_RENDELES FOREIGN KEY (RendelesID) \r\n",
                "        REFERENCES RENDELES(RendelesID),\r\n",
                "    CONSTRAINT FK_RENDELES_TETEL_TERMEK FOREIGN KEY (TermekID) \r\n",
                "        REFERENCES TERMEK(TermekID),\r\n",
                "    CONSTRAINT CHK_RENDELES_TETEL_Mennyiseg CHECK (Mennyiseg > 0),\r\n",
                "    CONSTRAINT CHK_RENDELES_TETEL_EgysegAr CHECK (EgysegAr >= 0),\r\n",
                "    CONSTRAINT CHK_RENDELES_TETEL_Afa CHECK (Afa >= 0 AND Afa <= 100),\r\n",
                "    CONSTRAINT CHK_RENDELES_TETEL_NettoAr CHECK (NettoAr >= 0),\r\n",
                "    CONSTRAINT CHK_RENDELES_TETEL_BruttoAr CHECK (BruttoAr >= 0)\r\n",
                ");"
            ],
            "metadata": {
                "azdata_cell_guid": "2dce7f59-1bd5-4fe6-bcf1-091593ec1ab5",
                "language": "sql"
            },
            "outputs": [
                {
                    "output_type": "display_data",
                    "data": {
                        "text/html": "Commands completed successfully."
                    },
                    "metadata": {}
                },
                {
                    "output_type": "display_data",
                    "data": {
                        "text/html": "Total execution time: 00:00:00.074"
                    },
                    "metadata": {}
                }
            ],
            "execution_count": 1
        },
        {
            "cell_type": "markdown",
            "source": [
                "Adatbázis feltöltése szintetikus adatokkal"
            ],
            "metadata": {
                "azdata_cell_guid": "1d6b6fb1-a9dc-4505-8425-367085dc403d"
            },
            "attachments": {}
        },
        {
            "cell_type": "code",
            "source": [
                "INSERT INTO CIM (Utca, Hazszam, Varos, Iranyitoszam, Orszag) VALUES ('Petőfi Sándor utca', '12A', 'Miskolc', '6374', 'Magyarország');\r\n",
                "INSERT INTO CIM (Utca, Hazszam, Varos, Iranyitoszam, Orszag) VALUES ('József Attila utca', '56B', 'Székesfehérvár', '1990', 'Magyarország');\r\n",
                "INSERT INTO CIM (Utca, Hazszam, Varos, Iranyitoszam, Orszag) VALUES ('Rákóczi út', '68', 'Nyíregyháza', '8867', 'Magyarország');\r\n",
                "INSERT INTO CIM (Utca, Hazszam, Varos, Iranyitoszam, Orszag) VALUES ('Bajcsy-Zsilinszky út', '94', 'Nyíregyháza', '3931', 'Magyarország');\r\n",
                "INSERT INTO CIM (Utca, Hazszam, Varos, Iranyitoszam, Orszag) VALUES ('Kossuth Lajos tér', '130', 'Szombathely', '1009', 'Magyarország');\r\n",
                "INSERT INTO CIM (Utca, Hazszam, Varos, Iranyitoszam, Orszag) VALUES ('Arany János utca', '48', 'Székesfehérvár', '5860', 'Magyarország');\r\n",
                "INSERT INTO CIM (Utca, Hazszam, Varos, Iranyitoszam, Orszag) VALUES ('Bartók Béla út', '168', 'Nyíregyháza', '7482', 'Magyarország');\r\n",
                "INSERT INTO CIM (Utca, Hazszam, Varos, Iranyitoszam, Orszag) VALUES ('Ady Endre utca', '122', 'Szombathely', '8814', 'Magyarország');\r\n",
                "INSERT INTO CIM (Utca, Hazszam, Varos, Iranyitoszam, Orszag) VALUES ('Kossuth Lajos tér', '37C', 'Nyíregyháza', '8510', 'Magyarország');\r\n",
                "INSERT INTO CIM (Utca, Hazszam, Varos, Iranyitoszam, Orszag) VALUES ('Szabadság út', '132A', 'Miskolc', '5141', 'Magyarország');"
            ],
            "metadata": {
                "azdata_cell_guid": "163d924b-8c73-4735-8f69-c0620f0970f7",
                "language": "sql"
            },
            "outputs": [
                {
                    "output_type": "display_data",
                    "data": {
                        "text/html": "(1 row affected)"
                    },
                    "metadata": {}
                },
                {
                    "output_type": "display_data",
                    "data": {
                        "text/html": "(1 row affected)"
                    },
                    "metadata": {}
                },
                {
                    "output_type": "display_data",
                    "data": {
                        "text/html": "(1 row affected)"
                    },
                    "metadata": {}
                },
                {
                    "output_type": "display_data",
                    "data": {
                        "text/html": "(1 row affected)"
                    },
                    "metadata": {}
                },
                {
                    "output_type": "display_data",
                    "data": {
                        "text/html": "(1 row affected)"
                    },
                    "metadata": {}
                },
                {
                    "output_type": "display_data",
                    "data": {
                        "text/html": "(1 row affected)"
                    },
                    "metadata": {}
                },
                {
                    "output_type": "display_data",
                    "data": {
                        "text/html": "(1 row affected)"
                    },
                    "metadata": {}
                },
                {
                    "output_type": "display_data",
                    "data": {
                        "text/html": "(1 row affected)"
                    },
                    "metadata": {}
                },
                {
                    "output_type": "display_data",
                    "data": {
                        "text/html": "(1 row affected)"
                    },
                    "metadata": {}
                },
                {
                    "output_type": "display_data",
                    "data": {
                        "text/html": "(1 row affected)"
                    },
                    "metadata": {}
                },
                {
                    "output_type": "display_data",
                    "data": {
                        "text/html": "Total execution time: 00:00:00.075"
                    },
                    "metadata": {}
                }
            ],
            "execution_count": 2
        },
        {
            "cell_type": "markdown",
            "source": [
                "Tesztelés"
            ],
            "metadata": {
                "azdata_cell_guid": "24de2041-f5cd-430b-a73e-0e6644f784d2"
            },
            "attachments": {}
        },
        {
            "cell_type": "code",
            "source": [
                "SELECT TOP 10 * FROM CIM;\r\n",
                "SELECT COUNT(*) FROM CIM;"
            ],
            "metadata": {
                "azdata_cell_guid": "1ca07b2e-8dc2-4dbb-911b-534293ac45b9",
                "language": "sql"
            },
            "outputs": [
                {
                    "output_type": "display_data",
                    "data": {
                        "text/html": "(10 rows affected)"
                    },
                    "metadata": {}
                },
                {
                    "output_type": "display_data",
                    "data": {
                        "text/html": "(1 row affected)"
                    },
                    "metadata": {}
                },
                {
                    "output_type": "display_data",
                    "data": {
                        "text/html": "Total execution time: 00:00:00.044"
                    },
                    "metadata": {}
                },
                {
                    "output_type": "execute_result",
                    "metadata": {},
                    "execution_count": 4,
                    "data": {
                        "application/vnd.dataresource+json": {
                            "schema": {
                                "fields": [
                                    {
                                        "name": "CimID"
                                    },
                                    {
                                        "name": "Utca"
                                    },
                                    {
                                        "name": "Hazszam"
                                    },
                                    {
                                        "name": "Varos"
                                    },
                                    {
                                        "name": "Iranyitoszam"
                                    },
                                    {
                                        "name": "Orszag"
                                    }
                                ]
                            },
                            "data": [
                                {
                                    "CimID": "1",
                                    "Utca": "Petofi Sándor utca",
                                    "Hazszam": "12A",
                                    "Varos": "Miskolc",
                                    "Iranyitoszam": "6374",
                                    "Orszag": "Magyarország"
                                },
                                {
                                    "CimID": "2",
                                    "Utca": "József Attila utca",
                                    "Hazszam": "56B",
                                    "Varos": "Székesfehérvár",
                                    "Iranyitoszam": "1990",
                                    "Orszag": "Magyarország"
                                },
                                {
                                    "CimID": "3",
                                    "Utca": "Rákóczi út",
                                    "Hazszam": "68",
                                    "Varos": "Nyíregyháza",
                                    "Iranyitoszam": "8867",
                                    "Orszag": "Magyarország"
                                },
                                {
                                    "CimID": "4",
                                    "Utca": "Bajcsy-Zsilinszky út",
                                    "Hazszam": "94",
                                    "Varos": "Nyíregyháza",
                                    "Iranyitoszam": "3931",
                                    "Orszag": "Magyarország"
                                },
                                {
                                    "CimID": "5",
                                    "Utca": "Kossuth Lajos tér",
                                    "Hazszam": "130",
                                    "Varos": "Szombathely",
                                    "Iranyitoszam": "1009",
                                    "Orszag": "Magyarország"
                                },
                                {
                                    "CimID": "6",
                                    "Utca": "Arany János utca",
                                    "Hazszam": "48",
                                    "Varos": "Székesfehérvár",
                                    "Iranyitoszam": "5860",
                                    "Orszag": "Magyarország"
                                },
                                {
                                    "CimID": "7",
                                    "Utca": "Bartók Béla út",
                                    "Hazszam": "168",
                                    "Varos": "Nyíregyháza",
                                    "Iranyitoszam": "7482",
                                    "Orszag": "Magyarország"
                                },
                                {
                                    "CimID": "8",
                                    "Utca": "Ady Endre utca",
                                    "Hazszam": "122",
                                    "Varos": "Szombathely",
                                    "Iranyitoszam": "8814",
                                    "Orszag": "Magyarország"
                                },
                                {
                                    "CimID": "9",
                                    "Utca": "Kossuth Lajos tér",
                                    "Hazszam": "37C",
                                    "Varos": "Nyíregyháza",
                                    "Iranyitoszam": "8510",
                                    "Orszag": "Magyarország"
                                },
                                {
                                    "CimID": "10",
                                    "Utca": "Szabadság út",
                                    "Hazszam": "132A",
                                    "Varos": "Miskolc",
                                    "Iranyitoszam": "5141",
                                    "Orszag": "Magyarország"
                                }
                            ]
                        },
                        "text/html": [
                            "<table>",
                            "<tr><th>CimID</th><th>Utca</th><th>Hazszam</th><th>Varos</th><th>Iranyitoszam</th><th>Orszag</th></tr>",
                            "<tr><td>1</td><td>Petofi Sándor utca</td><td>12A</td><td>Miskolc</td><td>6374</td><td>Magyarország</td></tr>",
                            "<tr><td>2</td><td>József Attila utca</td><td>56B</td><td>Székesfehérvár</td><td>1990</td><td>Magyarország</td></tr>",
                            "<tr><td>3</td><td>Rákóczi út</td><td>68</td><td>Nyíregyháza</td><td>8867</td><td>Magyarország</td></tr>",
                            "<tr><td>4</td><td>Bajcsy-Zsilinszky út</td><td>94</td><td>Nyíregyháza</td><td>3931</td><td>Magyarország</td></tr>",
                            "<tr><td>5</td><td>Kossuth Lajos tér</td><td>130</td><td>Szombathely</td><td>1009</td><td>Magyarország</td></tr>",
                            "<tr><td>6</td><td>Arany János utca</td><td>48</td><td>Székesfehérvár</td><td>5860</td><td>Magyarország</td></tr>",
                            "<tr><td>7</td><td>Bartók Béla út</td><td>168</td><td>Nyíregyháza</td><td>7482</td><td>Magyarország</td></tr>",
                            "<tr><td>8</td><td>Ady Endre utca</td><td>122</td><td>Szombathely</td><td>8814</td><td>Magyarország</td></tr>",
                            "<tr><td>9</td><td>Kossuth Lajos tér</td><td>37C</td><td>Nyíregyháza</td><td>8510</td><td>Magyarország</td></tr>",
                            "<tr><td>10</td><td>Szabadság út</td><td>132A</td><td>Miskolc</td><td>5141</td><td>Magyarország</td></tr>",
                            "</table>"
                        ]
                    }
                },
                {
                    "output_type": "execute_result",
                    "metadata": {},
                    "execution_count": 4,
                    "data": {
                        "application/vnd.dataresource+json": {
                            "schema": {
                                "fields": [
                                    {
                                        "name": "(No column name)"
                                    }
                                ]
                            },
                            "data": [
                                {
                                    "(No column name)": "10"
                                }
                            ]
                        },
                        "text/html": [
                            "<table>",
                            "<tr><th>(No column name)</th></tr>",
                            "<tr><td>10</td></tr>",
                            "</table>"
                        ]
                    }
                }
            ],
            "execution_count": 4
        }
    ]
}